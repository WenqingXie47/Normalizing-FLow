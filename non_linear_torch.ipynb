{
 "cells": [
  {
   "cell_type": "code",
   "execution_count": 1,
   "metadata": {},
   "outputs": [],
   "source": [
    "import numpy as np\n",
    "from matplotlib import pyplot as plt\n",
    "import functools\n",
    "from ferrari.depressed_cubic_torch import cardan_depressed, stable_cubic\n",
    "import torch\n"
   ]
  },
  {
   "cell_type": "code",
   "execution_count": 2,
   "metadata": {},
   "outputs": [],
   "source": [
    "# def non_linear(x):\n",
    "#     y = x**3\n",
    "#     return y\n",
    "\n",
    "# def inverse_non_linear(y):\n",
    "#     x = np.sign(y)*np.exp(1/3*np.log(np.abs(y)))\n",
    "#     return x\n",
    "    "
   ]
  },
  {
   "cell_type": "markdown",
   "metadata": {},
   "source": [
    "# Nonlinear Function"
   ]
  },
  {
   "cell_type": "code",
   "execution_count": 13,
   "metadata": {},
   "outputs": [],
   "source": [
    "def non_linear(x, g):\n",
    "    y = g*x**3 + (1-g)*x\n",
    "    return y\n",
    "\n",
    "def inverse_non_linear(y,g):\n",
    "    x = stable_cubic((1-g)/g,-y/g)\n",
    "    return x\n",
    "\n",
    "def inverse_non_linear_cardan(y,g):\n",
    "    x = cardan_depressed((1-g)/g,-y/g)\n",
    "    return x"
   ]
  },
  {
   "cell_type": "markdown",
   "metadata": {},
   "source": [
    "# Test reverse accuracy"
   ]
  },
  {
   "cell_type": "code",
   "execution_count": 26,
   "metadata": {},
   "outputs": [
    {
     "name": "stdout",
     "output_type": "stream",
     "text": [
      "with stable cubic, mean err is: 1.5107712e-09 max err is 0.3814345 \n",
      "with cardan, mean err is: -1.3143709e-07 max err is 0.38138038\n"
     ]
    }
   ],
   "source": [
    "g = torch.rand(100,dtype=torch.float32)\n",
    "X = torch.linspace(-1,1,100+1,dtype=torch.float32)\n",
    "err = [] \n",
    "err_cardan = []\n",
    "for x in X:\n",
    "    y = non_linear(x, g)\n",
    "    err.append((inverse_non_linear(y,g)-y).numpy())\n",
    "    err_cardan.append((inverse_non_linear_cardan(y,g)-y).numpy())\n",
    "\n",
    "err = np.array(err)\n",
    "err_cardan = np.array(err_cardan)\n",
    "\n",
    "print(\"with stable cubic, mean err is:\", err.mean(),\n",
    "      \"max err is\", err.max(), \"\\n\"\n",
    "      \"with cardan, mean err is:\", err_cardan.mean(),\n",
    "       \"max err is\", err_cardan.max(),\n",
    ")\n"
   ]
  },
  {
   "cell_type": "markdown",
   "metadata": {},
   "source": [
    "# Multiple Layers"
   ]
  },
  {
   "cell_type": "code",
   "execution_count": 27,
   "metadata": {},
   "outputs": [],
   "source": [
    "def normalization(x, min, max):\n",
    "    y = (x - min)*2/(max-min)-1\n",
    "    return y\n",
    "\n",
    "def forward_layer(x,a,b,g):\n",
    "    z = x*a + b\n",
    "    y = non_linear(z,g) \n",
    "    return y\n",
    "\n",
    "\n",
    "def normalized_forward_layer(x,a,b,c,d,g):\n",
    "    x = forward_layer(x,a,b,g)\n",
    "    x = x*c+d\n",
    "    return x\n",
    "\n",
    "\n",
    "\n",
    "def forward_function(x,a,b,c,d,g,n_layers):\n",
    "    for i in range(n_layers):   \n",
    "        x = normalized_forward_layer(x,a[i],b[i],c[i],d[i],g[i])\n",
    "    return x\n",
    "\n",
    "\n",
    "\n",
    "def backward_function(y,a,b,c,d,g,n_layers):\n",
    "    for i in range(n_layers):\n",
    "        y = (y-d[n_layers-i-1])/c[n_layers-i-1]\n",
    "        y = inverse_non_linear(y,g[n_layers-i-1])\n",
    "        y = (y-b[n_layers-i-1])/a[n_layers-i-1]\n",
    "    return y\n",
    "\n",
    "\n",
    "# def normalization(f,x):\n",
    "#     max = f(1)\n",
    "#     min = f(0)\n",
    "#     y = (f(x) - min)/(max-min)\n",
    "#     return y"
   ]
  },
  {
   "cell_type": "code",
   "execution_count": 28,
   "metadata": {},
   "outputs": [],
   "source": [
    "n_layers = 20\n",
    "\n",
    "# a = np.random.rand(n_layers)*2\n",
    "a = torch.exp(torch.randn(n_layers))\n",
    "b = a* (np.random.rand(n_layers)*2-1)\n",
    "g = np.float32(np.random.rand(n_layers))\n",
    "# g = np.zeros(n_layers)\n",
    "max = forward_layer(1,a,b,g)\n",
    "min = forward_layer(-1,a,b,g)\n",
    "c = 2/(max-min)\n",
    "d = -min*c-1\n",
    "\n"
   ]
  },
  {
   "cell_type": "code",
   "execution_count": 29,
   "metadata": {},
   "outputs": [],
   "source": [
    "forward = functools.partial(forward_function,a=a,b=b,c=c,d=d,g=g,n_layers=n_layers)\n",
    "backward = functools.partial(backward_function,a=a,b=b,c=c,d=d,g=g,n_layers=n_layers)\n"
   ]
  },
  {
   "cell_type": "code",
   "execution_count": 57,
   "metadata": {},
   "outputs": [
    {
     "name": "stderr",
     "output_type": "stream",
     "text": [
      "/home/wenqingxie/Code/Normalizing-FLow/ferrari/depressed_cardan.py:4: RuntimeWarning: divide by zero encountered in log\n",
      "  y = np.sign(x)*np.exp(index*np.log(np.abs(x)))\n",
      "/tmp/ipykernel_1876/2697859287.py:14: UserWarning: Matplotlib is currently using module://matplotlib_inline.backend_inline, which is a non-GUI backend, so cannot show the figure.\n",
      "  fig.show()\n"
     ]
    },
    {
     "data": {
      "image/png": "[encoded data removed]",
      "text/plain": [
       "<Figure size 432x288 with 1 Axes>"
      ]
     },
     "metadata": {
      "needs_background": "light"
     },
     "output_type": "display_data"
    }
   ],
   "source": [
    "x = np.float32(np.linspace(-1,1,1000+1))\n",
    "err_list = []\n",
    "n_layers = np.arange(1,a.shape[0])\n",
    "for i in n_layers:\n",
    "    y = forward_function(x,a=a[:i],b=b[:i],c=c[:i],d=d[:i],g=g[:i],n_layers=i)\n",
    "    x_reverse = backward(y,a=a[:i],b=b[:i],c=c[:i],d=d[:i],g=g[:i],n_layers=i)\n",
    "    err_list.append(np.max(np.abs(x-x_reverse)))\n",
    "err = np.array(err_list)\n",
    "\n",
    "fig,ax = plt.subplots()\n",
    "ax.plot(n_layers,err)\n",
    "ax.set_xlabel(\"n_layers\")\n",
    "ax.set_ylabel(\"err\")\n",
    "fig.show()"
   ]
  },
  {
   "cell_type": "code",
   "execution_count": 30,
   "metadata": {},
   "outputs": [
    {
     "name": "stdout",
     "output_type": "stream",
     "text": [
      "0.7463769\n"
     ]
    }
   ],
   "source": [
    "x = np.float32(np.linspace(-1,1,1000+1))\n",
    "y = forward(x)\n",
    "\n",
    "gradient = np.gradient(y, x)\n",
    "x_reverse = backward(y)\n",
    "err = np.max(np.abs(x-x_reverse))\n",
    "print(err)"
   ]
  },
  {
   "cell_type": "code",
   "execution_count": 276,
   "metadata": {},
   "outputs": [
    {
     "name": "stderr",
     "output_type": "stream",
     "text": [
      "/tmp/ipykernel_30899/2101377656.py:3: UserWarning: Matplotlib is currently using module://matplotlib_inline.backend_inline, which is a non-GUI backend, so cannot show the figure.\n",
      "  fig.show()\n"
     ]
    },
    {
     "data": {
      "image/png": "[encoded data removed]",
      "text/plain": [
       "<Figure size 432x288 with 1 Axes>"
      ]
     },
     "metadata": {
      "needs_background": "light"
     },
     "output_type": "display_data"
    }
   ],
   "source": [
    "fig,ax = plt.subplots()\n",
    "ax.plot(x,y)\n",
    "fig.show()"
   ]
  },
  {
   "cell_type": "code",
   "execution_count": 277,
   "metadata": {},
   "outputs": [
    {
     "name": "stderr",
     "output_type": "stream",
     "text": [
      "/tmp/ipykernel_30899/999524737.py:3: UserWarning: Matplotlib is currently using module://matplotlib_inline.backend_inline, which is a non-GUI backend, so cannot show the figure.\n",
      "  fig.show()\n"
     ]
    },
    {
     "data": {
      "image/png": "[encoded data removed]",
      "text/plain": [
       "<Figure size 432x288 with 1 Axes>"
      ]
     },
     "metadata": {
      "needs_background": "light"
     },
     "output_type": "display_data"
    }
   ],
   "source": [
    "fig,ax = plt.subplots()\n",
    "ax.plot(x,gradient)\n",
    "fig.show()"
   ]
  },
  {
   "cell_type": "code",
   "execution_count": null,
   "metadata": {},
   "outputs": [],
   "source": []
  },
  {
   "cell_type": "markdown",
   "metadata": {},
   "source": [
    "# Add zero points"
   ]
  },
  {
   "cell_type": "code",
   "execution_count": 159,
   "metadata": {},
   "outputs": [],
   "source": [
    "def find_bias(x0,f):\n",
    "    y = f(x0)\n",
    "    return -y\n",
    "\n",
    "def add_zero_point(x,f,x0):\n",
    "    b = find_bias(x0,f)\n",
    "    x = f(x)\n",
    "    x = x+b\n",
    "    x = non_linear(x, g=1)\n",
    "    return x\n",
    "    \n",
    "    "
   ]
  },
  {
   "cell_type": "code",
   "execution_count": 164,
   "metadata": {},
   "outputs": [],
   "source": [
    "\n",
    "\n",
    "x = np.linspace(-1,1,1000+1)\n",
    "y = add_zero_point(x,forward,x0=-0.6)\n",
    "gradient = np.gradient(y, x)"
   ]
  },
  {
   "cell_type": "code",
   "execution_count": 165,
   "metadata": {},
   "outputs": [
    {
     "name": "stderr",
     "output_type": "stream",
     "text": [
      "/tmp/ipykernel_1906/3438589204.py:3: UserWarning: Matplotlib is currently using module://matplotlib_inline.backend_inline, which is a non-GUI backend, so cannot show the figure.\n",
      "  fig.show()\n"
     ]
    },
    {
     "data": {
      "image/png": "[encoded data removed]",
      "text/plain": [
       "<Figure size 432x288 with 1 Axes>"
      ]
     },
     "metadata": {
      "needs_background": "light"
     },
     "output_type": "display_data"
    }
   ],
   "source": [
    "fig,ax = plt.subplots()\n",
    "ax.plot(x,gradient)\n",
    "fig.show()\n",
    "\n"
   ]
  },
  {
   "cell_type": "code",
   "execution_count": 55,
   "metadata": {},
   "outputs": [
    {
     "data": {
      "text/plain": [
       "0.0001629904195993015"
      ]
     },
     "execution_count": 55,
     "metadata": {},
     "output_type": "execute_result"
    }
   ],
   "source": [
    "gradient[501]"
   ]
  },
  {
   "cell_type": "code",
   "execution_count": null,
   "metadata": {},
   "outputs": [],
   "source": []
  }
 ],
 "metadata": {
  "kernelspec": {
   "display_name": "nf",
   "language": "python",
   "name": "python3"
  },
  "language_info": {
   "codemirror_mode": {
    "name": "ipython",
    "version": 3
   },
   "file_extension": ".py",
   "mimetype": "text/x-python",
   "name": "python",
   "nbconvert_exporter": "python",
   "pygments_lexer": "ipython3",
   "version": "3.8.12"
  }
 },
 "nbformat": 4,
 "nbformat_minor": 2
}
