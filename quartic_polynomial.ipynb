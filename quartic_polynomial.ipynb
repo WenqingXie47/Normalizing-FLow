{
 "cells": [
  {
   "cell_type": "code",
   "execution_count": 30,
   "metadata": {},
   "outputs": [],
   "source": [
    "import numpy as np\n",
    "import torch"
   ]
  },
  {
   "cell_type": "code",
   "execution_count": 31,
   "metadata": {},
   "outputs": [],
   "source": [
    "def quartic_polynomial(x,a,b,c,d,e):\n",
    "    p = a*(x**4) + b*(x**3)+ c*(x**2)+  d*x + e\n",
    "    return p"
   ]
  },
  {
   "cell_type": "code",
   "execution_count": null,
   "metadata": {},
   "outputs": [],
   "source": [
    "J=np.exp(2j*np.pi/3)\n",
    "Jc=1/J"
   ]
  },
  {
   "cell_type": "code",
   "execution_count": 62,
   "metadata": {},
   "outputs": [],
   "source": [
    "def Roots_2(a,b,c):\n",
    "    bp=b/2\n",
    "    delta=bp*bp-a*c\n",
    "    r1=(-bp-delta**.5)/a\n",
    "    r2=-r1-b/a\n",
    "    return r1,r2\n",
    "\n",
    "\n",
    "def Cardano(a,b,c,d):\n",
    "    z0=b/3/a\n",
    "    a2,b2 = a*a,b*b\n",
    "    p=-b2/3/a2 +c/a\n",
    "    q=(b/27*(2*b2/a2-9*c/a)+d)/a\n",
    "    D=-4*p*p*p-27*q*q\n",
    "    r=np.sqrt(-D/27+0j)\n",
    "    u=((-q-r)/2)**0.33333333333333333333333\n",
    "    v=((-q+r)/2)**0.33333333333333333333333\n",
    "    w=u*v\n",
    "    w0=abs(w+p/3)\n",
    "    w1=abs(w*J+p/3)\n",
    "    w2=abs(w*Jc+p/3)\n",
    "    if w0<w1:\n",
    "      if w2<w0 : v*=Jc\n",
    "    elif w2<w1 : v*=Jc\n",
    "    else: v*=J\n",
    "    return u+v-z0, u*J+v*Jc-z0, u*Jc+v*J-z0\n",
    "\n",
    "def Ferrari(a,b,c,d,e):\n",
    "    \"Ferrarai's Method\"\n",
    "    \"resolution of P=ax^4+bx^3+cx^2+dx+e=0, coeffs reals\"\n",
    "    \"First shift : x= z-b/4/a  =>  P=z^4+pz^2+qz+r\"\n",
    "    z0=b/4/a\n",
    "    a2,b2,c2,d2 = a*a,b*b,c*c,d*d\n",
    "    p = -3*b2/(8*a2)+c/a\n",
    "    q = b*b2/8/a/a2 - 1/2*b*c/a2 + d/a\n",
    "    r = -3/256*b2*b2/a2/a2 +c*b2/a2/a/16-b*d/a2/4+e/a\n",
    "    \"Second find y so P2=Ay^3+By^2+Cy+D=0\"\n",
    "    A=8\n",
    "    B=-4*p\n",
    "    C=-8*r\n",
    "    D=4*r*p-q*q\n",
    "    y0,y1,y2=Cardano(A,B,C,D)\n",
    "    if abs(y1.imag)<abs(y0.imag): y0=y1\n",
    "    if abs(y2.imag)<abs(y0.imag): y0=y2\n",
    "    a0=(-p+2*y0)**.5\n",
    "    if a0==0 : b0=y0**2-r\n",
    "    else : b0=-q/2/a0\n",
    "    r0,r1=Roots_2(1,a0,y0+b0)\n",
    "    r2,r3=Roots_2(1,-a0,y0-b0)\n",
    "    return np.array([r0-z0,r1-z0,r2-z0,r3-z0])"
   ]
  },
  {
   "cell_type": "code",
   "execution_count": 69,
   "metadata": {},
   "outputs": [],
   "source": [
    "def roots2(a,b,c):\n",
    "    bp=b/2    \n",
    "    delta=bp*bp-a*c\n",
    "    u1=(-bp-delta**.5)/a\n",
    "    u2=-u1-b/a\n",
    "    return u1,u2  \n",
    "\n",
    "\n",
    "def cardan(a,b,c,d):\n",
    "    z0=b/3/a\n",
    "    a2,b2 = a*a,b*b    \n",
    "    p=-b2/3/a2 +c/a\n",
    "    q=(b/27*(2*b2/a2-9*c/a)+d)/a\n",
    "    D=-4*p*p*p-27*q*q\n",
    "    r=torch.sqrt(-D/27+0j)        \n",
    "    u=((-q-r)/2)**0.33333333333333333333333\n",
    "    v=((-q+r)/2)**0.33333333333333333333333\n",
    "    w=u*v\n",
    "    w0=torch.abs(w+p/3)\n",
    "    w1=torch.abs(w*J+p/3)\n",
    "    w2=torch.abs(w*Jc+p/3)\n",
    "    v = torch.where(\n",
    "        torch.logical_and(torch.lt(w0,w1), torch.lt(w2,w0)),\n",
    "        v*Jc, v\n",
    "    )\n",
    "    v = torch.where(\n",
    "        torch.logical_and(torch.lt(w1,w0), torch.lt(w2,w1)),\n",
    "        v*Jc, v\n",
    "    )\n",
    "    v = torch.where(\n",
    "        torch.logical_and(torch.lt(w1,w0), torch.lt(w1,w2)),\n",
    "        v*J, v\n",
    "    )    \n",
    "    return u+v-z0, u*J+v*Jc-z0,u*Jc+v*J-z0\n",
    "\n",
    "def ferrari(a,b,c,d,e):\n",
    "    \"resolution of P=ax^4+bx^3+cx^2+dx+e=0\"\n",
    "    \"CN all coeffs real.\"\n",
    "    \"First shift : x= z-b/4/a  =>  P=z^4+pz^2+qz+r\"\n",
    "    z0=b/4/a\n",
    "    a2,b2,c2,d2 = a*a,b*b,c*c,d*d \n",
    "    p = -3*b2/(8*a2)+c/a\n",
    "    q = b*b2/8/a/a2 - 1/2*b*c/a2 + d/a\n",
    "    r = -3/256*b2*b2/a2/a2 +c*b2/a2/a/16-b*d/a2/4+e/a\n",
    "    \"Second find X so P2=AX^3+BX^2+C^X+D=0\"\n",
    "    A=8\n",
    "    B=-4*p\n",
    "    C=-8*r\n",
    "    D=4*r*p-q*q\n",
    "    y0,y1,y2=cardan(A,B,C,D)\n",
    "    y0 = torch.where(\n",
    "        torch.lt(torch.abs(y1.imag),torch.abs(y0.imag)),\n",
    "        y1, y0\n",
    "    )\n",
    "    y0 = torch.where(\n",
    "        torch.lt(torch.abs(y2.imag),torch.abs(y0.imag)),\n",
    "        y2, y0\n",
    "    )\n",
    "    a0=(-p+2*y0.real)**.5\n",
    "    b0 = torch.where(\n",
    "        torch.eq(a0,0),\n",
    "        y0**2-r, -q/2/a0\n",
    "    )\n",
    "    r0,r1=roots2(1,a0,y0+b0)\n",
    "    r2,r3=roots2(1,-a0,y0-b0)\n",
    "    answer = torch.as_tensor(np.array([r0-z0,r1-z0,r2-z0,r3-z0]))\n",
    "    answer = torch.transpose(answer,0,1)\n",
    "    return answer"
   ]
  },
  {
   "cell_type": "code",
   "execution_count": 70,
   "metadata": {},
   "outputs": [],
   "source": [
    "a = torch.randn(100)*10\n",
    "b = torch.randn(100)*10\n",
    "c = torch.randn(100)*10\n",
    "d = torch.randn(100)*10\n",
    "e = torch.randn(100)*10\n",
    "\n",
    "X = ferrari(a,b,c,d,e)"
   ]
  },
  {
   "cell_type": "code",
   "execution_count": 72,
   "metadata": {},
   "outputs": [
    {
     "name": "stdout",
     "output_type": "stream",
     "text": [
      "tensor([-2.2377-3.6308e-08j,  1.0456+3.6308e-08j, -0.1699-1.3624e+00j,\n",
      "        -0.1699+1.3624e+00j])\n",
      "(tensor(-2.2377-2.2640e-07j), tensor(1.0456+4.1647e-07j), tensor(-0.1699+1.3624j), tensor(-0.1699-1.3624j))\n"
     ]
    }
   ],
   "source": [
    "i = 7\n",
    "x = Ferrari(a[i],b[i],c[i],d[i],e[i])\n",
    "print(X[i])\n",
    "print(x)"
   ]
  },
  {
   "cell_type": "code",
   "execution_count": 51,
   "metadata": {},
   "outputs": [],
   "source": [
    "err_max = [\n",
    "    quartic_polynomial(X[0],a,b,c,d,e).real.max(),\n",
    "    quartic_polynomial(X[1],a,b,c,d,e).real.max(),\n",
    "    quartic_polynomial(X[2],a,b,c,d,e).real.max(),\n",
    "    quartic_polynomial(X[3],a,b,c,d,e).real.max(),\n",
    "]\n",
    "\n",
    "\n",
    "err_mean = [\n",
    "    quartic_polynomial(X[0],a,b,c,d,e).real.mean(),\n",
    "    quartic_polynomial(X[1],a,b,c,d,e).real.mean(),\n",
    "    quartic_polynomial(X[2],a,b,c,d,e).real.mean(),\n",
    "    quartic_polynomial(X[3],a,b,c,d,e).real.mean(),\n",
    "]\n"
   ]
  },
  {
   "cell_type": "code",
   "execution_count": 52,
   "metadata": {},
   "outputs": [
    {
     "data": {
      "text/plain": [
       "[tensor(28.2706), tensor(0.0215), tensor(0.0215), tensor(2.8349)]"
      ]
     },
     "execution_count": 52,
     "metadata": {},
     "output_type": "execute_result"
    }
   ],
   "source": [
    "err_max"
   ]
  },
  {
   "cell_type": "code",
   "execution_count": 53,
   "metadata": {},
   "outputs": [
    {
     "data": {
      "text/plain": [
       "[tensor(0.0390), tensor(-0.2402), tensor(-0.2373), tensor(-0.2183)]"
      ]
     },
     "execution_count": 53,
     "metadata": {},
     "output_type": "execute_result"
    }
   ],
   "source": [
    "err_mean"
   ]
  },
  {
   "cell_type": "code",
   "execution_count": null,
   "metadata": {},
   "outputs": [],
   "source": []
  }
 ],
 "metadata": {
  "kernelspec": {
   "display_name": "nf",
   "language": "python",
   "name": "python3"
  },
  "language_info": {
   "codemirror_mode": {
    "name": "ipython",
    "version": 3
   },
   "file_extension": ".py",
   "mimetype": "text/x-python",
   "name": "python",
   "nbconvert_exporter": "python",
   "pygments_lexer": "ipython3",
   "version": "3.12.2"
  }
 },
 "nbformat": 4,
 "nbformat_minor": 2
}
