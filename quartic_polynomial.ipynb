{
 "cells": [
  {
   "cell_type": "code",
   "execution_count": 1,
   "metadata": {},
   "outputs": [],
   "source": [
    "import numpy as np\n",
    "import torch\n",
    "from ferrari.Ferrari import Ferrari\n",
    "from ferrari.Ferrari_torch import ferrari"
   ]
  },
  {
   "cell_type": "code",
   "execution_count": 2,
   "metadata": {},
   "outputs": [],
   "source": [
    "def quartic_polynomial(x,a,b,c,d,e):\n",
    "    p = a*(x**4) + b*(x**3)+ c*(x**2)+  d*x + e\n",
    "    return p"
   ]
  },
  {
   "cell_type": "code",
   "execution_count": 3,
   "metadata": {},
   "outputs": [],
   "source": [
    "a = torch.randn(100)*10\n",
    "b = torch.randn(100)*10\n",
    "c = torch.randn(100)*10\n",
    "d = torch.randn(100)*10\n",
    "\n",
    "x = torch.randn(100)*10\n",
    "e = -quartic_polynomial(x,a,b,c,d,0)\n",
    "\n",
    "X = ferrari(a,b,c,d,e)"
   ]
  },
  {
   "cell_type": "code",
   "execution_count": 4,
   "metadata": {},
   "outputs": [
    {
     "name": "stdout",
     "output_type": "stream",
     "text": [
      "tensor([-1.7502-3.0531e-08j,  1.1782+3.0531e-08j,  0.4930-1.4345e+00j,\n",
      "         0.4930+1.4345e+00j])\n",
      "[-1.7502154 -7.2995171e-08j  1.1781672 +2.0477754e-07j\n",
      "  0.49299854+1.4344940e+00j  0.49299878-1.4344941e+00j]\n"
     ]
    }
   ],
   "source": [
    "i = 7\n",
    "x = Ferrari(a[i],b[i],c[i],d[i],e[i])\n",
    "print(X[:,i])\n",
    "print(x)"
   ]
  },
  {
   "cell_type": "code",
   "execution_count": 5,
   "metadata": {},
   "outputs": [],
   "source": [
    "err_max = [\n",
    "    quartic_polynomial(X[0],a,b,c,d,e).real.max(),\n",
    "    quartic_polynomial(X[1],a,b,c,d,e).real.max(),\n",
    "    quartic_polynomial(X[2],a,b,c,d,e).real.max(),\n",
    "    quartic_polynomial(X[3],a,b,c,d,e).real.max(),\n",
    "]\n",
    "\n",
    "\n",
    "err_mean = [\n",
    "    quartic_polynomial(X[0],a,b,c,d,e).real.mean(),\n",
    "    quartic_polynomial(X[1],a,b,c,d,e).real.mean(),\n",
    "    quartic_polynomial(X[2],a,b,c,d,e).real.mean(),\n",
    "    quartic_polynomial(X[3],a,b,c,d,e).real.mean(),\n",
    "]\n"
   ]
  },
  {
   "cell_type": "code",
   "execution_count": 52,
   "metadata": {},
   "outputs": [
    {
     "data": {
      "text/plain": [
       "[tensor(28.2706), tensor(0.0215), tensor(0.0215), tensor(2.8349)]"
      ]
     },
     "execution_count": 52,
     "metadata": {},
     "output_type": "execute_result"
    }
   ],
   "source": [
    "err_max"
   ]
  },
  {
   "cell_type": "code",
   "execution_count": 53,
   "metadata": {},
   "outputs": [
    {
     "data": {
      "text/plain": [
       "[tensor(0.0390), tensor(-0.2402), tensor(-0.2373), tensor(-0.2183)]"
      ]
     },
     "execution_count": 53,
     "metadata": {},
     "output_type": "execute_result"
    }
   ],
   "source": [
    "err_mean"
   ]
  },
  {
   "cell_type": "code",
   "execution_count": null,
   "metadata": {},
   "outputs": [],
   "source": []
  }
 ],
 "metadata": {
  "kernelspec": {
   "display_name": "nf",
   "language": "python",
   "name": "python3"
  },
  "language_info": {
   "codemirror_mode": {
    "name": "ipython",
    "version": 3
   },
   "file_extension": ".py",
   "mimetype": "text/x-python",
   "name": "python",
   "nbconvert_exporter": "python",
   "pygments_lexer": "ipython3",
   "version": "3.8.12"
  }
 },
 "nbformat": 4,
 "nbformat_minor": 2
}
