{
 "cells": [
  {
   "cell_type": "code",
   "execution_count": 94,
   "metadata": {},
   "outputs": [],
   "source": [
    "import numpy as np\n",
    "from matplotlib import pyplot as plt\n",
    "import functools\n",
    "from ferrari.depressed_cardan import cardan_depressed"
   ]
  },
  {
   "cell_type": "code",
   "execution_count": 95,
   "metadata": {},
   "outputs": [],
   "source": [
    "# def non_linear(x):\n",
    "#     y = x**3\n",
    "#     return y\n",
    "\n",
    "# def inverse_non_linear(y):\n",
    "#     x = np.sign(y)*np.exp(1/3*np.log(np.abs(y)))\n",
    "#     return x\n",
    "    "
   ]
  },
  {
   "cell_type": "code",
   "execution_count": 96,
   "metadata": {},
   "outputs": [],
   "source": [
    "def non_linear(x, g):\n",
    "    y = g*x**3 + (1-g)*x\n",
    "    return y\n",
    "\n",
    "def inverse_non_linear(y,g):\n",
    "    x = cardan_depressed((1-g)/g,-y/g)\n",
    "    return x"
   ]
  },
  {
   "cell_type": "code",
   "execution_count": 97,
   "metadata": {},
   "outputs": [
    {
     "data": {
      "text/plain": [
       "array([ 0.00000000e+00,  0.00000000e+00,  1.11022302e-16,  0.00000000e+00,\n",
       "        1.11022302e-16,  0.00000000e+00, -3.33066907e-16, -1.11022302e-16,\n",
       "        0.00000000e+00,  0.00000000e+00])"
      ]
     },
     "execution_count": 97,
     "metadata": {},
     "output_type": "execute_result"
    }
   ],
   "source": [
    "g = 2\n",
    "x = np.random.rand(10)\n",
    "y = non_linear(x, g)\n",
    "x_r = inverse_non_linear(y,g)\n",
    "\n",
    "x_r-x"
   ]
  },
  {
   "cell_type": "code",
   "execution_count": 98,
   "metadata": {},
   "outputs": [],
   "source": [
    "def normalization(x, min, max):\n",
    "    y = (x - min)*2/(max-min)-1\n",
    "    return y\n",
    "\n",
    "def forward_layer(x,a,b,g):\n",
    "    z = x*a + b\n",
    "    y = non_linear(z,g) \n",
    "    return y\n",
    "\n",
    "\n",
    "def normalized_forward_layer(x,a,b,c,d,g):\n",
    "    x = forward_layer(x,a,b,g)\n",
    "    x = x*c+d\n",
    "    return x\n",
    "\n",
    "\n",
    "\n",
    "def forward_function(x,a,b,c,d,g,n_layers):\n",
    "    for i in range(n_layers):   \n",
    "        x = normalized_forward_layer(x,a[i],b[i],c[i],d[i],g[i])\n",
    "    return x\n",
    "\n",
    "\n",
    "\n",
    "def backward_function(y,a,b,c,d,g,n_layers):\n",
    "    for i in range(n_layers):\n",
    "        y = (y-d[n_layers-i-1])/c[n_layers-i-1]\n",
    "        y = inverse_non_linear(y,g[n_layers-i-1])\n",
    "        y = (y-b[n_layers-i-1])/a[n_layers-i-1]\n",
    "    return y\n",
    "\n",
    "\n",
    "# def normalization(f,x):\n",
    "#     max = f(1)\n",
    "#     min = f(0)\n",
    "#     y = (f(x) - min)/(max-min)\n",
    "#     return y"
   ]
  },
  {
   "cell_type": "code",
   "execution_count": 104,
   "metadata": {},
   "outputs": [],
   "source": [
    "n_layers = 20\n",
    "\n",
    "# a = np.random.rand(n_layers)*2\n",
    "a = np.exp(np.random.randn(n_layers))\n",
    "b = a* (np.random.rand(n_layers)*2-1)\n",
    "g = np.exp(np.random.randn(n_layers)*2)\n",
    "max = forward_layer(1,a,b,g)\n",
    "min = forward_layer(-1,a,b,g)\n",
    "c = 2/(max-min)\n",
    "d = -min*c-1\n",
    "\n"
   ]
  },
  {
   "cell_type": "code",
   "execution_count": 105,
   "metadata": {},
   "outputs": [],
   "source": [
    "forward = functools.partial(forward_function,a=a,b=b,c=c,d=d,g=g,n_layers=n_layers)\n",
    "backward = functools.partial(backward_function,a=a,b=b,c=c,d=d,g=g,n_layers=n_layers)\n"
   ]
  },
  {
   "cell_type": "code",
   "execution_count": 106,
   "metadata": {},
   "outputs": [
    {
     "name": "stdout",
     "output_type": "stream",
     "text": [
      "1.2833180629279184e-09\n"
     ]
    }
   ],
   "source": [
    "x = np.linspace(-1,1,1000+1)\n",
    "y = forward(x)\n",
    "\n",
    "gradient = np.gradient(y, x)\n",
    "x_reverse = backward(y)\n",
    "err = np.max(np.abs(x-x_reverse))\n",
    "print(err)"
   ]
  },
  {
   "cell_type": "code",
   "execution_count": 107,
   "metadata": {},
   "outputs": [
    {
     "name": "stderr",
     "output_type": "stream",
     "text": [
      "/tmp/ipykernel_1906/2101377656.py:3: UserWarning: Matplotlib is currently using module://matplotlib_inline.backend_inline, which is a non-GUI backend, so cannot show the figure.\n",
      "  fig.show()\n"
     ]
    },
    {
     "data": {
      "image/png": "[encoded data removed]",
      "text/plain": [
       "<Figure size 432x288 with 1 Axes>"
      ]
     },
     "metadata": {
      "needs_background": "light"
     },
     "output_type": "display_data"
    }
   ],
   "source": [
    "fig,ax = plt.subplots()\n",
    "ax.plot(x,y)\n",
    "fig.show()"
   ]
  },
  {
   "cell_type": "code",
   "execution_count": 108,
   "metadata": {},
   "outputs": [
    {
     "name": "stderr",
     "output_type": "stream",
     "text": [
      "/tmp/ipykernel_1906/999524737.py:3: UserWarning: Matplotlib is currently using module://matplotlib_inline.backend_inline, which is a non-GUI backend, so cannot show the figure.\n",
      "  fig.show()\n"
     ]
    },
    {
     "data": {
      "image/png": "[encoded data removed]",
      "text/plain": [
       "<Figure size 432x288 with 1 Axes>"
      ]
     },
     "metadata": {
      "needs_background": "light"
     },
     "output_type": "display_data"
    }
   ],
   "source": [
    "fig,ax = plt.subplots()\n",
    "ax.plot(x,gradient)\n",
    "fig.show()"
   ]
  },
  {
   "cell_type": "code",
   "execution_count": null,
   "metadata": {},
   "outputs": [],
   "source": []
  },
  {
   "cell_type": "markdown",
   "metadata": {},
   "source": [
    "# Add zero points"
   ]
  },
  {
   "cell_type": "code",
   "execution_count": 91,
   "metadata": {},
   "outputs": [],
   "source": [
    "def find_bias(x0,f):\n",
    "    y = f(x0)\n",
    "    return -y\n",
    "\n",
    "def add_zero_point(x,f,x0):\n",
    "    b = find_bias(x0,f)\n",
    "    x = f(x)\n",
    "    x = x+b\n",
    "    x = non_linear(x, g=0)\n",
    "    return x\n",
    "    \n",
    "    "
   ]
  },
  {
   "cell_type": "code",
   "execution_count": 92,
   "metadata": {},
   "outputs": [],
   "source": [
    "\n",
    "\n",
    "x = np.linspace(-1,1,1000+1)\n",
    "y = add_zero_point(x,forward,x0=0.5)\n",
    "gradient = np.gradient(y, x)"
   ]
  },
  {
   "cell_type": "code",
   "execution_count": 93,
   "metadata": {},
   "outputs": [
    {
     "name": "stderr",
     "output_type": "stream",
     "text": [
      "/tmp/ipykernel_1906/3438589204.py:3: UserWarning: Matplotlib is currently using module://matplotlib_inline.backend_inline, which is a non-GUI backend, so cannot show the figure.\n",
      "  fig.show()\n"
     ]
    },
    {
     "data": {
      "image/png": "[encoded data removed]",
      "text/plain": [
       "<Figure size 432x288 with 1 Axes>"
      ]
     },
     "metadata": {
      "needs_background": "light"
     },
     "output_type": "display_data"
    }
   ],
   "source": [
    "fig,ax = plt.subplots()\n",
    "ax.plot(x,gradient)\n",
    "fig.show()\n",
    "\n"
   ]
  },
  {
   "cell_type": "code",
   "execution_count": 55,
   "metadata": {},
   "outputs": [
    {
     "data": {
      "text/plain": [
       "0.0001629904195993015"
      ]
     },
     "execution_count": 55,
     "metadata": {},
     "output_type": "execute_result"
    }
   ],
   "source": [
    "gradient[501]"
   ]
  },
  {
   "cell_type": "code",
   "execution_count": null,
   "metadata": {},
   "outputs": [],
   "source": []
  }
 ],
 "metadata": {
  "kernelspec": {
   "display_name": "nf",
   "language": "python",
   "name": "python3"
  },
  "language_info": {
   "codemirror_mode": {
    "name": "ipython",
    "version": 3
   },
   "file_extension": ".py",
   "mimetype": "text/x-python",
   "name": "python",
   "nbconvert_exporter": "python",
   "pygments_lexer": "ipython3",
   "version": "3.8.12"
  }
 },
 "nbformat": 4,
 "nbformat_minor": 2
}
