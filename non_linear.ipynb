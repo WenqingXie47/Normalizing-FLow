{
 "cells": [
  {
   "cell_type": "code",
   "execution_count": 281,
   "metadata": {},
   "outputs": [],
   "source": [
    "import numpy as np\n",
    "from matplotlib import pyplot as plt\n",
    "import functools"
   ]
  },
  {
   "cell_type": "code",
   "execution_count": 282,
   "metadata": {},
   "outputs": [],
   "source": [
    "def non_linear(x):\n",
    "    y = x**3\n",
    "    return y\n",
    "\n",
    "def inverse_non_linear(y):\n",
    "    x = np.sign(y)*np.exp(1/3*np.log(np.abs(y)))\n",
    "    return x\n",
    "    "
   ]
  },
  {
   "cell_type": "code",
   "execution_count": 302,
   "metadata": {},
   "outputs": [],
   "source": [
    "def normalization(x, min, max):\n",
    "    y = (x - min)*2/(max-min)-1\n",
    "    return y\n",
    "\n",
    "def forward_layer(x,a,b):\n",
    "    x = x*a+b\n",
    "    x = non_linear(x)\n",
    "    return x\n",
    "\n",
    "\n",
    "def normalized_forward_layer(x,a,b,c,d):\n",
    "    x = forward_layer(x,a,b)\n",
    "    x = x*c+d\n",
    "    return x\n",
    "\n",
    "\n",
    "\n",
    "def forward_function(x,a,b,c,d,n_layers):\n",
    "    for i in range(n_layers):   \n",
    "        x = normalized_forward_layer(x,a[i],b[i],c[i],d[i])\n",
    "    return x\n",
    "\n",
    "\n",
    "\n",
    "def backward_function(y,a,b,c,d,n_layers):\n",
    "    for i in range(n_layers):\n",
    "        y = (y-d[n_layers-i-1])/c[n_layers-i-1]\n",
    "        y = inverse_non_linear(y)\n",
    "        y = (y-b[n_layers-i-1])/a[n_layers-i-1]\n",
    "    return y\n",
    "\n",
    "\n",
    "# def normalization(f,x):\n",
    "#     max = f(1)\n",
    "#     min = f(0)\n",
    "#     y = (f(x) - min)/(max-min)\n",
    "#     return y"
   ]
  },
  {
   "cell_type": "code",
   "execution_count": 322,
   "metadata": {},
   "outputs": [],
   "source": [
    "n_layers = 20\n",
    "\n",
    "# a = np.random.rand(n_layers)*2\n",
    "a = np.ones(n_layers)\n",
    "b = np.random.rand(n_layers)*2-1\n",
    "max = forward_layer(1,a,b)\n",
    "min = forward_layer(-1,a,b)\n",
    "c = 2/(max-min)\n",
    "d = -min*c-1\n",
    "\n"
   ]
  },
  {
   "cell_type": "code",
   "execution_count": 323,
   "metadata": {},
   "outputs": [],
   "source": [
    "forward = functools.partial(forward_function,a=a,b=b,c=c,d=d,n_layers=n_layers)\n",
    "backward = functools.partial(backward_function,a=a,b=b,c=c,d=d,n_layers=n_layers)\n"
   ]
  },
  {
   "cell_type": "code",
   "execution_count": 327,
   "metadata": {},
   "outputs": [
    {
     "name": "stdout",
     "output_type": "stream",
     "text": [
      "nan\n"
     ]
    },
    {
     "name": "stderr",
     "output_type": "stream",
     "text": [
      "/tmp/ipykernel_220774/448540540.py:6: RuntimeWarning: invalid value encountered in power\n",
      "  x = np.power(y,1/3)\n"
     ]
    }
   ],
   "source": [
    "x = np.linspace(-1,1,1000+1)\n",
    "y = forward(x)\n",
    "\n",
    "gradient = np.gradient(y, x)\n",
    "x_reverse = backward(y)\n",
    "err = np.max(np.abs(x-x_reverse))\n",
    "print(err)"
   ]
  },
  {
   "cell_type": "code",
   "execution_count": 325,
   "metadata": {},
   "outputs": [
    {
     "name": "stderr",
     "output_type": "stream",
     "text": [
      "/tmp/ipykernel_220774/999524737.py:3: UserWarning: FigureCanvasAgg is non-interactive, and thus cannot be shown\n",
      "  fig.show()\n"
     ]
    },
    {
     "data": {
      "image/png": "[encoded data removed]",
      "text/plain": [
       "<Figure size 640x480 with 1 Axes>"
      ]
     },
     "metadata": {},
     "output_type": "display_data"
    }
   ],
   "source": [
    "fig,ax = plt.subplots()\n",
    "ax.plot(x,gradient)\n",
    "fig.show()"
   ]
  },
  {
   "cell_type": "code",
   "execution_count": null,
   "metadata": {},
   "outputs": [],
   "source": []
  },
  {
   "cell_type": "code",
   "execution_count": null,
   "metadata": {},
   "outputs": [],
   "source": []
  }
 ],
 "metadata": {
  "kernelspec": {
   "display_name": "nf",
   "language": "python",
   "name": "python3"
  },
  "language_info": {
   "codemirror_mode": {
    "name": "ipython",
    "version": 3
   },
   "file_extension": ".py",
   "mimetype": "text/x-python",
   "name": "python",
   "nbconvert_exporter": "python",
   "pygments_lexer": "ipython3",
   "version": "3.12.2"
  }
 },
 "nbformat": 4,
 "nbformat_minor": 2
}
